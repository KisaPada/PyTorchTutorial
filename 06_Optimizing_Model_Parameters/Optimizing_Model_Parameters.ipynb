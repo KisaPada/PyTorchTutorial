{
 "cells": [
  {
   "cell_type": "markdown",
   "id": "52778f50-3a48-4afd-b2a7-fc4857ab6756",
   "metadata": {},
   "source": [
    "# Optimizing Model Parameters\n",
    "\n",
    "Now that we have a model and data it’s time to train, validate and test our model by optimizing its parameters on our data. Training a model is an iterative process; in each iteration the model makes a guess about the output, calculates the error in its guess (loss), collects the derivatives of the error with respect to its parameters (as we saw in the [previous section](https://docs.pytorch.org/tutorials/beginner/basics/autograd_tutorial.html)), and **optimizes** these parameters using gradient descent. For a more detailed walkthrough of this process, check out this video on [backpropagation from 3Blue1Brown](https://www.youtube.com/watch?v=tIeHLnjs5U8)."
   ]
  },
  {
   "cell_type": "markdown",
   "id": "456c5a05-2194-4222-b79f-fa7e5dd901e2",
   "metadata": {},
   "source": [
    "## Prerequisite Code\n",
    "\n",
    "We load the code from the previous sections on [Datasets & DataLoaders](https://docs.pytorch.org/tutorials/beginner/basics/data_tutorial.html) and [Build Model](https://docs.pytorch.org/tutorials/beginner/basics/buildmodel_tutorial.html)."
   ]
  },
  {
   "cell_type": "code",
   "execution_count": 1,
   "id": "a38acae6-e15d-4f60-8dcc-6a12308ed1c3",
   "metadata": {},
   "outputs": [
    {
     "name": "stdout",
     "output_type": "stream",
     "text": [
      "Downloading http://fashion-mnist.s3-website.eu-central-1.amazonaws.com/train-images-idx3-ubyte.gz\n",
      "Downloading http://fashion-mnist.s3-website.eu-central-1.amazonaws.com/train-images-idx3-ubyte.gz to data/FashionMNIST/raw/train-images-idx3-ubyte.gz\n"
     ]
    },
    {
     "name": "stderr",
     "output_type": "stream",
     "text": [
      "100.0%\n"
     ]
    },
    {
     "name": "stdout",
     "output_type": "stream",
     "text": [
      "Extracting data/FashionMNIST/raw/train-images-idx3-ubyte.gz to data/FashionMNIST/raw\n",
      "\n",
      "Downloading http://fashion-mnist.s3-website.eu-central-1.amazonaws.com/train-labels-idx1-ubyte.gz\n",
      "Downloading http://fashion-mnist.s3-website.eu-central-1.amazonaws.com/train-labels-idx1-ubyte.gz to data/FashionMNIST/raw/train-labels-idx1-ubyte.gz\n"
     ]
    },
    {
     "name": "stderr",
     "output_type": "stream",
     "text": [
      "100.0%\n"
     ]
    },
    {
     "name": "stdout",
     "output_type": "stream",
     "text": [
      "Extracting data/FashionMNIST/raw/train-labels-idx1-ubyte.gz to data/FashionMNIST/raw\n",
      "\n",
      "Downloading http://fashion-mnist.s3-website.eu-central-1.amazonaws.com/t10k-images-idx3-ubyte.gz\n",
      "Downloading http://fashion-mnist.s3-website.eu-central-1.amazonaws.com/t10k-images-idx3-ubyte.gz to data/FashionMNIST/raw/t10k-images-idx3-ubyte.gz\n"
     ]
    },
    {
     "name": "stderr",
     "output_type": "stream",
     "text": [
      "100.0%\n"
     ]
    },
    {
     "name": "stdout",
     "output_type": "stream",
     "text": [
      "Extracting data/FashionMNIST/raw/t10k-images-idx3-ubyte.gz to data/FashionMNIST/raw\n",
      "\n",
      "Downloading http://fashion-mnist.s3-website.eu-central-1.amazonaws.com/t10k-labels-idx1-ubyte.gz\n",
      "Downloading http://fashion-mnist.s3-website.eu-central-1.amazonaws.com/t10k-labels-idx1-ubyte.gz to data/FashionMNIST/raw/t10k-labels-idx1-ubyte.gz\n"
     ]
    },
    {
     "name": "stderr",
     "output_type": "stream",
     "text": [
      "100.0%"
     ]
    },
    {
     "name": "stdout",
     "output_type": "stream",
     "text": [
      "Extracting data/FashionMNIST/raw/t10k-labels-idx1-ubyte.gz to data/FashionMNIST/raw\n",
      "\n"
     ]
    },
    {
     "name": "stderr",
     "output_type": "stream",
     "text": [
      "\n"
     ]
    }
   ],
   "source": [
    "import torch\n",
    "from torch import nn\n",
    "from torch.utils.data import DataLoader\n",
    "from torchvision import datasets\n",
    "from torchvision.transforms import ToTensor\n",
    "\n",
    "training_data = datasets.FashionMNIST(\n",
    "    root=\"data\",\n",
    "    train=True,\n",
    "    download=True,\n",
    "    transform=ToTensor()\n",
    ")\n",
    "\n",
    "test_data = datasets.FashionMNIST(\n",
    "    root=\"data\",\n",
    "    train=False,\n",
    "    download=True,\n",
    "    transform=ToTensor()\n",
    ")\n",
    "\n",
    "train_dataloader = DataLoader(training_data, batch_size=64)\n",
    "test_dataloader = DataLoader(test_data, batch_size=64)\n",
    "\n",
    "class NeuralNetwork(nn.Module):\n",
    "    def __init__(self):\n",
    "        super().__init__()\n",
    "        self.flatten = nn.Flatten()\n",
    "        self.linear_relu_stack = nn.Sequential(\n",
    "            nn.Linear(28*28, 512),\n",
    "            nn.ReLU(),\n",
    "            nn.Linear(512, 512),\n",
    "            nn.ReLU(),\n",
    "            nn.Linear(512, 10),\n",
    "        )\n",
    "\n",
    "    def forward(self, x):\n",
    "        x = self.flatten(x)\n",
    "        logits = self.linear_relu_stack(x)\n",
    "        return logits\n",
    "\n",
    "model = NeuralNetwork()"
   ]
  },
  {
   "cell_type": "markdown",
   "id": "3807a40f-9348-4f29-94c2-1fe5a8f271cb",
   "metadata": {},
   "source": [
    "## Hyperparameters\n",
    "\n",
    "Hyperparameters are adjustable parameters that let you control the model optimization process. Different hyperparameter values can impact model training and convergence rates ([read more](https://pytorch.org/tutorials/beginner/hyperparameter_tuning_tutorial.html) about hyperparameter tuning)\n",
    "\n",
    "**We define the following hyperparameters for training:**\n",
    "\n",
    "- **Number of Epochs** - the number of times to iterate over the dataset\n",
    "- **Batch Size** - the number of data samples propagated through the network before the parameters are updated\n",
    "- **Learning Rate** - how much to update model parameters at each batch/epoch. Smaller values yield slow learning speed, while large values may result in unpredictable behavior during training."
   ]
  },
  {
   "cell_type": "code",
   "execution_count": 2,
   "id": "eb8ba0b3-e406-49c6-997f-ea19c29f8e4c",
   "metadata": {},
   "outputs": [],
   "source": [
    "learning_rate = 1e-3\n",
    "batch_size = 64\n",
    "epochs = 5"
   ]
  },
  {
   "cell_type": "markdown",
   "id": "c83b96a4-efe9-4461-ad76-3506f4fe4434",
   "metadata": {},
   "source": [
    "## Optimization Loop\n",
    "\n",
    "Once we set our hyperparameters, we can then train and optimize our model with an optimization loop. Each iteration of the optimization loop is called an **epoch**.\n",
    "\n",
    "**Each epoch consists of two main parts:**\n",
    "\n",
    "- **The Train Loop** - iterate over the training dataset and try to converge to optimal parameters.\n",
    "- **The Validation/Test Loop** - iterate over the test dataset to check if model performance is improving.\n",
    "\n",
    "Let’s briefly familiarize ourselves with some of the concepts used in the training loop. Jump ahead to see the [Full Implementation](https://docs.pytorch.org/tutorials/beginner/basics/optimization_tutorial.html#full-impl-label) of the optimization loop."
   ]
  },
  {
   "cell_type": "markdown",
   "id": "e3bd362b-be7e-40ec-8ac3-e1b92c312fd8",
   "metadata": {},
   "source": [
    "### Loss Function\n",
    "\n",
    "When presented with some training data, our untrained network is likely not to give the correct answer. **Loss function** measures the degree of dissimilarity of obtained result to the target value, and it is the loss function that we want to minimize during training. To calculate the loss we make a prediction using the inputs of our given data sample and compare it against the true data label value.\n",
    "\n",
    "Common loss functions include [nn.MSELoss](https://pytorch.org/docs/stable/generated/torch.nn.MSELoss.html#torch.nn.MSELoss) (Mean Square Error) for regression tasks, and [nn.NLLLoss](https://pytorch.org/docs/stable/generated/torch.nn.NLLLoss.html#torch.nn.NLLLoss) (Negative Log Likelihood) for classification. [nn.CrossEntropyLoss](https://pytorch.org/docs/stable/generated/torch.nn.CrossEntropyLoss.html#torch.nn.CrossEntropyLoss) combines `nn.LogSoftmax` and `nn.NLLLoss`.\n",
    "\n",
    "We pass our model’s output logits to `nn.CrossEntropyLoss`, which will normalize the logits and computes the prediction error."
   ]
  },
  {
   "cell_type": "code",
   "execution_count": 3,
   "id": "2c10c9c9-e0d4-4cb5-bfa9-244b3121ba91",
   "metadata": {},
   "outputs": [],
   "source": [
    "# Initialize the loss function\n",
    "loss_fn = nn.CrossEntropyLoss()"
   ]
  },
  {
   "cell_type": "markdown",
   "id": "3301d2d6-1bc1-4b18-9c7a-5f39502e5fe9",
   "metadata": {},
   "source": [
    "### Optimizer\n",
    "\n",
    "Optimization is the process of adjusting model parameters to reduce model error in each training step. **Optimization algorithms** define how this process is performed (in this example we use Stochastic Gradient Descent). All optimization logic is encapsulated in the **optimizer** object. Here, we use the SGD optimizer; additionally, there are many [different optimizers](https://pytorch.org/docs/stable/optim.html) available in PyTorch such as ADAM and RMSProp, that work better for different kinds of models and data.\n",
    "\n",
    "We initialize the optimizer by registering the model’s parameters that need to be trained, and passing in the learning rate hyperparameter."
   ]
  },
  {
   "cell_type": "code",
   "execution_count": 4,
   "id": "2cfe881f-5d08-40e5-bdf3-112463fff52e",
   "metadata": {},
   "outputs": [],
   "source": [
    "optimizer = torch.optim.SGD(model.parameters(), lr=learning_rate)"
   ]
  },
  {
   "cell_type": "markdown",
   "id": "e832e1cc-9de5-427d-a3ee-e5fe98637f8a",
   "metadata": {},
   "source": [
    "**Inside the training loop, optimization happens in three steps:**\n",
    "\n",
    "- Call `optimizer.zero_grad()` to reset the gradients of model parameters. Gradients by default add up; to prevent double-counting, we explicitly zero them at each iteration.\n",
    "- Backpropagate the prediction loss with a call to `loss.backward()`. PyTorch deposits the gradients of the loss w.r.t. each parameter.\n",
    "- Once we have our gradients, we call `optimizer.step()` to adjust the parameters by the gradients collected in the backward pass."
   ]
  },
  {
   "cell_type": "markdown",
   "id": "3d730fbb-d886-4fd4-ab72-b93932a93ced",
   "metadata": {},
   "source": [
    "## Full Implementation\n",
    "\n",
    "We define `train_loop` that loops over our optimization code, and `test_loop` that evaluates the model's performance against out data."
   ]
  },
  {
   "cell_type": "code",
   "execution_count": 5,
   "id": "f87c3369-4ab3-4812-9e91-7c4a05facf7c",
   "metadata": {},
   "outputs": [],
   "source": [
    "def train_loop(dataloader, model, loss_fn, optimizer):\n",
    "    size = len(dataloader.dataset)\n",
    "    # Set the model to training mode - important for batch normalization and dropout layers\n",
    "    # Unnecessary in this situation but added for best practices\n",
    "    model.train()\n",
    "    for batch, (X, y) in enumerate(dataloader):\n",
    "        # Compute prediction and loss\n",
    "        pred = model(X)\n",
    "        loss = loss_fn(pred, y)\n",
    "\n",
    "        # Backpropagation\n",
    "        loss.backward()\n",
    "        optimizer.step()\n",
    "        optimizer.zero_grad()\n",
    "\n",
    "        if batch % 100 == 0:\n",
    "            loss, current = loss.item(), batch * batch_size + len(X)\n",
    "            print(f\"loss: {loss:>7f}  [{current:>5d}/{size:>5d}]\")\n",
    "\n",
    "\n",
    "def test_loop(dataloader, model, loss_fn):\n",
    "    # Set the model to evaluation mode - important for batch normalization and dropout layers\n",
    "    # Unnecessary in this situation but added for best practices\n",
    "    model.eval()\n",
    "    size = len(dataloader.dataset)\n",
    "    num_batches = len(dataloader)\n",
    "    test_loss, correct = 0, 0\n",
    "\n",
    "    # Evaluating the model with torch.no_grad() ensures that no gradients are computed during test mode\n",
    "    # also serves to reduce unnecessary gradient computations and memory usage for tensors with requires_grad=True\n",
    "    with torch.no_grad():\n",
    "        for X, y in dataloader:\n",
    "            pred = model(X)\n",
    "            test_loss += loss_fn(pred, y).item()\n",
    "            correct += (pred.argmax(1) == y).type(torch.float).sum().item()\n",
    "\n",
    "    test_loss /= num_batches\n",
    "    correct /= size\n",
    "    print(f\"Test Error: \\n Accuracy: {(100*correct):>0.1f}%, Avg loss: {test_loss:>8f} \\n\")"
   ]
  },
  {
   "cell_type": "markdown",
   "id": "b10d0445-0630-4bdb-9c97-0a840e0b735a",
   "metadata": {},
   "source": [
    "We initialize the loss function and optimizer, and pass it to `train_loop` and `test_loop`. Feel free to increase the number of epochs to track the model’s improving performance."
   ]
  },
  {
   "cell_type": "code",
   "execution_count": 6,
   "id": "e15fe1cd-fc5e-4e85-afe9-9b7664aa985a",
   "metadata": {},
   "outputs": [
    {
     "name": "stdout",
     "output_type": "stream",
     "text": [
      "Epoch 1\n",
      "-------------------------------\n",
      "loss: 2.312428  [   64/60000]\n",
      "loss: 2.298895  [ 6464/60000]\n",
      "loss: 2.272712  [12864/60000]\n",
      "loss: 2.262373  [19264/60000]\n",
      "loss: 2.253709  [25664/60000]\n",
      "loss: 2.214849  [32064/60000]\n",
      "loss: 2.221825  [38464/60000]\n",
      "loss: 2.179428  [44864/60000]\n",
      "loss: 2.177640  [51264/60000]\n",
      "loss: 2.138434  [57664/60000]\n",
      "Test Error: \n",
      " Accuracy: 40.6%, Avg loss: 2.137700 \n",
      "\n",
      "Epoch 2\n",
      "-------------------------------\n",
      "loss: 2.154380  [   64/60000]\n",
      "loss: 2.151559  [ 6464/60000]\n",
      "loss: 2.079937  [12864/60000]\n",
      "loss: 2.089109  [19264/60000]\n",
      "loss: 2.053030  [25664/60000]\n",
      "loss: 1.982680  [32064/60000]\n",
      "loss: 2.010756  [38464/60000]\n",
      "loss: 1.924606  [44864/60000]\n",
      "loss: 1.928058  [51264/60000]\n",
      "loss: 1.850127  [57664/60000]\n",
      "Test Error: \n",
      " Accuracy: 55.3%, Avg loss: 1.849846 \n",
      "\n",
      "Epoch 3\n",
      "-------------------------------\n",
      "loss: 1.897980  [   64/60000]\n",
      "loss: 1.872077  [ 6464/60000]\n",
      "loss: 1.736517  [12864/60000]\n",
      "loss: 1.765554  [19264/60000]\n",
      "loss: 1.680901  [25664/60000]\n",
      "loss: 1.628084  [32064/60000]\n",
      "loss: 1.648455  [38464/60000]\n",
      "loss: 1.548403  [44864/60000]\n",
      "loss: 1.572178  [51264/60000]\n",
      "loss: 1.466236  [57664/60000]\n",
      "Test Error: \n",
      " Accuracy: 59.2%, Avg loss: 1.484678 \n",
      "\n",
      "Epoch 4\n",
      "-------------------------------\n",
      "loss: 1.562628  [   64/60000]\n",
      "loss: 1.532922  [ 6464/60000]\n",
      "loss: 1.371727  [12864/60000]\n",
      "loss: 1.437489  [19264/60000]\n",
      "loss: 1.339543  [25664/60000]\n",
      "loss: 1.328316  [32064/60000]\n",
      "loss: 1.348632  [38464/60000]\n",
      "loss: 1.269550  [44864/60000]\n",
      "loss: 1.307008  [51264/60000]\n",
      "loss: 1.206780  [57664/60000]\n",
      "Test Error: \n",
      " Accuracy: 62.3%, Avg loss: 1.234168 \n",
      "\n",
      "Epoch 5\n",
      "-------------------------------\n",
      "loss: 1.314790  [   64/60000]\n",
      "loss: 1.302934  [ 6464/60000]\n",
      "loss: 1.130321  [12864/60000]\n",
      "loss: 1.231234  [19264/60000]\n",
      "loss: 1.119908  [25664/60000]\n",
      "loss: 1.137834  [32064/60000]\n",
      "loss: 1.166874  [38464/60000]\n",
      "loss: 1.099919  [44864/60000]\n",
      "loss: 1.141847  [51264/60000]\n",
      "loss: 1.055545  [57664/60000]\n",
      "Test Error: \n",
      " Accuracy: 64.3%, Avg loss: 1.078723 \n",
      "\n",
      "Epoch 6\n",
      "-------------------------------\n",
      "loss: 1.149656  [   64/60000]\n",
      "loss: 1.158899  [ 6464/60000]\n",
      "loss: 0.971187  [12864/60000]\n",
      "loss: 1.101896  [19264/60000]\n",
      "loss: 0.982772  [25664/60000]\n",
      "loss: 1.010666  [32064/60000]\n",
      "loss: 1.053303  [38464/60000]\n",
      "loss: 0.992506  [44864/60000]\n",
      "loss: 1.033562  [51264/60000]\n",
      "loss: 0.960940  [57664/60000]\n",
      "Test Error: \n",
      " Accuracy: 65.6%, Avg loss: 0.977680 \n",
      "\n",
      "Epoch 7\n",
      "-------------------------------\n",
      "loss: 1.034251  [   64/60000]\n",
      "loss: 1.064863  [ 6464/60000]\n",
      "loss: 0.861752  [12864/60000]\n",
      "loss: 1.015697  [19264/60000]\n",
      "loss: 0.895516  [25664/60000]\n",
      "loss: 0.921188  [32064/60000]\n",
      "loss: 0.978287  [38464/60000]\n",
      "loss: 0.922553  [44864/60000]\n",
      "loss: 0.958401  [51264/60000]\n",
      "loss: 0.897427  [57664/60000]\n",
      "Test Error: \n",
      " Accuracy: 66.8%, Avg loss: 0.908317 \n",
      "\n",
      "Epoch 8\n",
      "-------------------------------\n",
      "loss: 0.949052  [   64/60000]\n",
      "loss: 0.998857  [ 6464/60000]\n",
      "loss: 0.783253  [12864/60000]\n",
      "loss: 0.954535  [19264/60000]\n",
      "loss: 0.836639  [25664/60000]\n",
      "loss: 0.855340  [32064/60000]\n",
      "loss: 0.924950  [38464/60000]\n",
      "loss: 0.875541  [44864/60000]\n",
      "loss: 0.903854  [51264/60000]\n",
      "loss: 0.851008  [57664/60000]\n",
      "Test Error: \n",
      " Accuracy: 68.0%, Avg loss: 0.857925 \n",
      "\n",
      "Epoch 9\n",
      "-------------------------------\n",
      "loss: 0.883597  [   64/60000]\n",
      "loss: 0.948599  [ 6464/60000]\n",
      "loss: 0.724291  [12864/60000]\n",
      "loss: 0.908430  [19264/60000]\n",
      "loss: 0.794335  [25664/60000]\n",
      "loss: 0.805299  [32064/60000]\n",
      "loss: 0.883942  [38464/60000]\n",
      "loss: 0.842156  [44864/60000]\n",
      "loss: 0.862658  [51264/60000]\n",
      "loss: 0.815153  [57664/60000]\n",
      "Test Error: \n",
      " Accuracy: 69.5%, Avg loss: 0.819320 \n",
      "\n",
      "Epoch 10\n",
      "-------------------------------\n",
      "loss: 0.831298  [   64/60000]\n",
      "loss: 0.907827  [ 6464/60000]\n",
      "loss: 0.677933  [12864/60000]\n",
      "loss: 0.872199  [19264/60000]\n",
      "loss: 0.761885  [25664/60000]\n",
      "loss: 0.766149  [32064/60000]\n",
      "loss: 0.850458  [38464/60000]\n",
      "loss: 0.816871  [44864/60000]\n",
      "loss: 0.830266  [51264/60000]\n",
      "loss: 0.786277  [57664/60000]\n",
      "Test Error: \n",
      " Accuracy: 70.7%, Avg loss: 0.788337 \n",
      "\n",
      "Done!\n"
     ]
    }
   ],
   "source": [
    "loss_fn = nn.CrossEntropyLoss()\n",
    "optimizer = torch.optim.SGD(model.parameters(), lr=learning_rate)\n",
    "\n",
    "epochs = 10\n",
    "for t in range(epochs):\n",
    "    print(f\"Epoch {t+1}\\n-------------------------------\")\n",
    "    train_loop(train_dataloader, model, loss_fn, optimizer)\n",
    "    test_loop(test_dataloader, model, loss_fn)\n",
    "print(\"Done!\")"
   ]
  }
 ],
 "metadata": {
  "kernelspec": {
   "display_name": "Python 3 (ipykernel)",
   "language": "python",
   "name": "python3"
  },
  "language_info": {
   "codemirror_mode": {
    "name": "ipython",
    "version": 3
   },
   "file_extension": ".py",
   "mimetype": "text/x-python",
   "name": "python",
   "nbconvert_exporter": "python",
   "pygments_lexer": "ipython3",
   "version": "3.11.2"
  }
 },
 "nbformat": 4,
 "nbformat_minor": 5
}
