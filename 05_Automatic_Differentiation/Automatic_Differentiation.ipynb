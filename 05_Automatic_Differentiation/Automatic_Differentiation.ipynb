{
 "cells": [
  {
   "cell_type": "markdown",
   "id": "cb619a88-ca27-453b-8a05-ca55f669a645",
   "metadata": {},
   "source": [
    "# Automatic Differentiation with `torch.autograd`\n",
    "\n",
    "When training neural networks, the most frequently used algorithm is **back propagation**. In this algorithm, parameters (model weights) are adjusted according to the **gradient** of the loss function with respect to the given parameter.\n",
    "\n",
    "To compute those gradients, PyTorch has a built-in differentiation engine called `torch.autograd`. It supports automatic computation of gradients for any computational graph.\n",
    "\n",
    "Consider the simplest one-layer neural network, with input `x`, parameters `w` and `b`, and some loss function. It can be defined in PyTorch in the following manner:"
   ]
  },
  {
   "cell_type": "code",
   "execution_count": 1,
   "id": "e61b4210-831d-479f-8a7a-687d444394f2",
   "metadata": {},
   "outputs": [],
   "source": [
    "import torch\n",
    "\n",
    "x = torch.ones(5)  # input tensor\n",
    "y = torch.zeros(3)  # expected output\n",
    "w = torch.randn(5, 3, requires_grad=True)\n",
    "b = torch.randn(3, requires_grad=True)\n",
    "z = torch.matmul(x, w) + b\n",
    "loss = torch.nn.functional.binary_cross_entropy_with_logits(z, y)"
   ]
  },
  {
   "cell_type": "markdown",
   "id": "cd41e29a-763b-4c97-8d97-d842faa67476",
   "metadata": {},
   "source": [
    "## Tensors, Functions, and Computational Graph\n",
    "\n",
    "This code defines the following **computational graph**:\n",
    "\n",
    "![](comp-graph.png)\n",
    "\n",
    "In this network, `w` and `b` are **parameters**, which we need to optimize. Thus, we need to be able to compute the gradients of loss function with respect to those variables. In order to do that, we set the `requires_grad` property of those tensors.\n",
    "\n",
    "> **Note**\n",
    "> \n",
    "> You can set the value of `requires_grad` when creating a tensor, or later by using the `x.requires_grad_(True)` method.\n",
    "\n",
    "A function that we apply to tensors to construct computational graph is in fact an object of class `Function`. This object knows how to compute the function in the *forward* direction, and also how to compute its derivative during the *backward propagation* step. A reference to the backward propagation function is stored in `grad_fn` property of a tensor. You can find more information of `Function` [in the documentation](https://pytorch.org/docs/stable/autograd.html#function)."
   ]
  },
  {
   "cell_type": "code",
   "execution_count": 2,
   "id": "9feb02ae-2674-4bef-9b36-87dac927c390",
   "metadata": {},
   "outputs": [
    {
     "name": "stdout",
     "output_type": "stream",
     "text": [
      "Gradient function for z = <AddBackward0 object at 0x7f84bd3d3af0>\n",
      "Gradient function for loss = <BinaryCrossEntropyWithLogitsBackward0 object at 0x7f84bd3d3400>\n"
     ]
    }
   ],
   "source": [
    "print(f\"Gradient function for z = {z.grad_fn}\")\n",
    "print(f\"Gradient function for loss = {loss.grad_fn}\")"
   ]
  },
  {
   "cell_type": "markdown",
   "id": "c0dc77fa-b344-4233-8d78-f6ffffdced57",
   "metadata": {},
   "source": [
    "## Computing Gradients\n",
    "\n",
    "To optimize weights of parameters in the neural network, we need to compute the derivatives of our loss function with respect to parameters, namely, we need $\\dfrac{\\partial\\text{loss}}{\\partial{}w}$ and $\\dfrac{\\partial\\text{loss}}{\\partial{}b}$ under some fixed values of `x` and `y`. To compute those derivatives, we call `loss.backward()`, and then retrieve the values from `w.grad` and `b.grad`:"
   ]
  },
  {
   "cell_type": "code",
   "execution_count": 3,
   "id": "70b516f3-4baa-4c15-9445-a0d2fe265904",
   "metadata": {},
   "outputs": [
    {
     "name": "stdout",
     "output_type": "stream",
     "text": [
      "tensor([[0.2544, 0.1147, 0.3102],\n",
      "        [0.2544, 0.1147, 0.3102],\n",
      "        [0.2544, 0.1147, 0.3102],\n",
      "        [0.2544, 0.1147, 0.3102],\n",
      "        [0.2544, 0.1147, 0.3102]])\n",
      "tensor([0.2544, 0.1147, 0.3102])\n"
     ]
    }
   ],
   "source": [
    "loss.backward()\n",
    "print(w.grad)\n",
    "print(b.grad)"
   ]
  },
  {
   "cell_type": "markdown",
   "id": "629398c4-1936-48f2-ae2c-469ace8ecfd2",
   "metadata": {},
   "source": [
    "> Note\n",
    ">\n",
    "> - we can only obtain the `grad` properties for the leaf nodes of the computational graph, which have `requires_grad` property set to `True`. For all other nodes in our graph, gradients will not be available.\n",
    "> - We can only perform gradient calculations using `backward` once on a given graph, for performance reasons. If we need to do several `backward` calls on the same graph, we need to pass `retain_graph=True` to the `backward` call."
   ]
  },
  {
   "cell_type": "markdown",
   "id": "e9e0f4b0-48c9-4bfe-a633-7f3b9b9b865d",
   "metadata": {},
   "source": [
    "## Disabling Gradient Tracking\n",
    "\n",
    "By default, all tensors with `requires_grad=True` are tracking their computational history and support gradient computation. However, there are some cases when we do not need to do that, for example, when we have trained the model and just want to apply it to some input data, i.e., we only want to do *forward* computations through the network. We can stop tracking computations by surrounding out computation code with `torch.no_grad()` block:"
   ]
  },
  {
   "cell_type": "code",
   "execution_count": 4,
   "id": "2949876e-6a49-45e6-ac25-12ff28c29708",
   "metadata": {},
   "outputs": [
    {
     "name": "stdout",
     "output_type": "stream",
     "text": [
      "True\n",
      "False\n"
     ]
    }
   ],
   "source": [
    "z = torch.matmul(x, w) + b\n",
    "print(z.requires_grad)\n",
    "\n",
    "with torch.no_grad():\n",
    "    z = torch.matmul(x, w) + b\n",
    "print(z.requires_grad)"
   ]
  },
  {
   "cell_type": "markdown",
   "id": "b6f79d65-ebe3-4b2d-bb63-152f0ed984f3",
   "metadata": {},
   "source": [
    "Another way to achieve the same result is to use the `detach()` method on the tensor:"
   ]
  },
  {
   "cell_type": "code",
   "execution_count": 5,
   "id": "c13a5344-44ab-4aa8-bd42-cf3b0bc88930",
   "metadata": {},
   "outputs": [
    {
     "name": "stdout",
     "output_type": "stream",
     "text": [
      "False\n"
     ]
    }
   ],
   "source": [
    "z = torch.matmul(x, w) + b\n",
    "z_det = z.detach()\n",
    "print(z_det.requires_grad)"
   ]
  },
  {
   "cell_type": "markdown",
   "id": "14c463c9-65c3-4d25-ad2c-c9dd9947314d",
   "metadata": {},
   "source": [
    "**There are reasons you might want to disable gradient tracking:**\n",
    "\n",
    "- To mark some parameters in your neural network as **frozen parameters**.\n",
    "- To **speed up computations** when you are only doing forward pass, because computations on tensors that do not track gradients would be more efficient."
   ]
  },
  {
   "cell_type": "markdown",
   "id": "4c782b33-9875-4884-863a-1591ef9c48d6",
   "metadata": {},
   "source": [
    "## More on Computational Graphs\n",
    "\n",
    "Conceptually, autograd keeps a record of data (tensors) and all executed operations (along with the resulting new tensors) in a directed acyclic graph (DAG) consisting of [Function](https://pytorch.org/docs/stable/autograd.html#torch.autograd.Function) objects. In this DAG, leaves are the input tensors, roots are the output tensors. By tracing this graph from roots to leaves, you can automatically compute the gradients using the chain rule.\n",
    "\n",
    "In a forward pass, autograd does two things simultaneously:\n",
    "\n",
    "- run the requested operation to compute a resulting tensor\n",
    "- maintain the operation's *gradient function* in the DAG.\n",
    "\n",
    "The backward pass kicks off when `.backward()` is called on the DAG root. `autograd` then:\n",
    "\n",
    "- computes the gradients from each `.grad_fn`\n",
    "- accumulates them in the respective tensor's `.grad` attribute\n",
    "- using the chain rule, propagates all the way to the leaf tensors.\n",
    "\n",
    "> Note\n",
    ">\n",
    "> **DAGs are dynamic in PyTorch**. An important thing to note is that the graph is recreated from scratch; after each `.backward()` call, autograd starts populating a new graph. This is exactly what allows you to use control flow statements in your model; you can change the shape, size, and operations at every iteration, if needed."
   ]
  },
  {
   "cell_type": "markdown",
   "id": "17e69201-81c6-4097-a60b-ba4c43322106",
   "metadata": {},
   "source": [
    "## Optional Reading: Tensor Gradients and Jacobian Products\n",
    "\n",
    "In many cases, we have a scalar loss function, and we need to compute the gradient with respect to some parameters. However, there are cases when the output function is an arbitrary tensor. In this case, PyTorch allows you to compute the so-called **Jacobian product**, and not the actual gradient.\n",
    "\n",
    "For a vector function $\\vec{y} = f(\\vec{x})$, where $\\vec{x} = \\langle x_1,~\\dots,~x_n\\rangle$ and $\\vec{y} = \\langle y_1,~\\dots,~y_m\\rangle$, a gradient of $\\vec{y}$ with respect to $\\vec{x}$ is given by the **Jacobian matrix**:\n",
    "\n",
    "$$\n",
    "J = \\begin{bmatrix}\n",
    "\\dfrac{\\partial{}y_1}{\\partial{}x_1} & \\dots & \\dfrac{\\partial{}y_1}{\\partial{}x_n} \\\\\n",
    "\\vdots & \\ddots & \\vdots \\\\\n",
    "\\dfrac{\\partial{}y_m}{\\partial{}x_1} & \\dots & \\dfrac{\\partial{}y_m}{\\partial{}x_n}\n",
    "\\end{bmatrix}.\n",
    "$$\n",
    "\n",
    "Instead of computing the Jacobian matrix itself, PyTorch allows you to compute the **Jacobian Product** $v^T \\cdot J$ for a given vector $v = (v_1~\\dots~v_m)$. This is achieved by calling `backward` with $v$ as an argument. The size of $v$ should be the same as the size of the original tensor, with respect to which we want to compute the product:"
   ]
  },
  {
   "cell_type": "code",
   "execution_count": 6,
   "id": "ff5d1493-b1a8-4ec1-9d8f-5701ef41c668",
   "metadata": {},
   "outputs": [
    {
     "name": "stdout",
     "output_type": "stream",
     "text": [
      "First call\n",
      "tensor([[4., 2., 2., 2., 2.],\n",
      "        [2., 4., 2., 2., 2.],\n",
      "        [2., 2., 4., 2., 2.],\n",
      "        [2., 2., 2., 4., 2.]])\n",
      "\n",
      "Second call\n",
      "tensor([[8., 4., 4., 4., 4.],\n",
      "        [4., 8., 4., 4., 4.],\n",
      "        [4., 4., 8., 4., 4.],\n",
      "        [4., 4., 4., 8., 4.]])\n",
      "\n",
      "Call after zeroing gradients\n",
      "tensor([[4., 2., 2., 2., 2.],\n",
      "        [2., 4., 2., 2., 2.],\n",
      "        [2., 2., 4., 2., 2.],\n",
      "        [2., 2., 2., 4., 2.]])\n"
     ]
    }
   ],
   "source": [
    "inp = torch.eye(4, 5, requires_grad=True)  # eye-dentity matrix\n",
    "out = (inp+1).pow(2).t()\n",
    "out.backward(torch.ones_like(out), retain_graph=True)\n",
    "print(f\"First call\\n{inp.grad}\")\n",
    "out.backward(torch.ones_like(out), retain_graph=True)\n",
    "print(f\"\\nSecond call\\n{inp.grad}\")\n",
    "inp.grad.zero_()\n",
    "out.backward(torch.ones_like(out), retain_graph=True)\n",
    "print(f\"\\nCall after zeroing gradients\\n{inp.grad}\")"
   ]
  },
  {
   "cell_type": "markdown",
   "id": "f32cebf0-3af2-46ff-a71e-741524c080c3",
   "metadata": {},
   "source": [
    "Notice that when we call `backward` for the second time with the same argument, the value of the gradient is different. This happens because when doing `backward` propagation, PyTorch **accumulates the gradients**, i.e., the value of computed gradients is added to the `grad` property of all leaf nodes of computational graph. If you want to compute the proper gradients, you need to zero out the `grad` property before. In real-life training an *optimizer* helps us to do this.\n",
    "\n",
    "> Note\n",
    ">\n",
    "> Previously we were calling `backward()` function without parameters. This is essentially equivalent to calling `backward(toch.tensor(1.0))`, which is a useful way to compute the gradients in case of a scalar-values function, such as loss during neural network training."
   ]
  }
 ],
 "metadata": {
  "kernelspec": {
   "display_name": "Python 3 (ipykernel)",
   "language": "python",
   "name": "python3"
  },
  "language_info": {
   "codemirror_mode": {
    "name": "ipython",
    "version": 3
   },
   "file_extension": ".py",
   "mimetype": "text/x-python",
   "name": "python",
   "nbconvert_exporter": "python",
   "pygments_lexer": "ipython3",
   "version": "3.11.2"
  }
 },
 "nbformat": 4,
 "nbformat_minor": 5
}
