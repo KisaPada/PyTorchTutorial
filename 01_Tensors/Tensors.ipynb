{
 "cells": [
  {
   "cell_type": "markdown",
   "id": "a5af367d-e62f-4d3e-afe0-53f1dabd49a9",
   "metadata": {},
   "source": [
    "# Tensors"
   ]
  },
  {
   "cell_type": "code",
   "execution_count": 1,
   "id": "f34a77f5-6ed1-4839-9583-da83e5c75a09",
   "metadata": {},
   "outputs": [
    {
     "name": "stdout",
     "output_type": "stream",
     "text": [
      "torch.cuda.is_available()=False\n",
      "tensor([[0.7699, 0.1920, 0.9073],\n",
      "        [0.1630, 0.6050, 0.9756],\n",
      "        [0.3958, 0.9870, 0.0891],\n",
      "        [0.6013, 0.0959, 0.5213],\n",
      "        [0.0496, 0.8285, 0.9672]])\n",
      "tensor is stored on: cpu\n"
     ]
    }
   ],
   "source": [
    "import torch\n",
    "import numpy as np\n",
    "\n",
    "print(f\"{torch.cuda.is_available()=}\")\n",
    "# print(f\"{torch.accelerator.is_available()=}\") # Not available due to old version of PyTorch\n",
    "tensor = torch.rand((5, 3))\n",
    "print(tensor)\n",
    "print(f\"tensor is stored on: {tensor.device}\")"
   ]
  },
  {
   "cell_type": "markdown",
   "id": "ea6994cc-34f3-4b5a-8273-ddcde5bb55cd",
   "metadata": {},
   "source": [
    "## Initializing a Tensor\n",
    "\n",
    "Tensors can be initialized in various ways."
   ]
  },
  {
   "cell_type": "markdown",
   "id": "26376a55-27d3-4a11-b68d-0bd461bfa726",
   "metadata": {},
   "source": [
    "### Directly From Data\n",
    "\n",
    "Data type is inferred."
   ]
  },
  {
   "cell_type": "code",
   "execution_count": 2,
   "id": "134443dc-2634-400f-b023-7640161a8440",
   "metadata": {},
   "outputs": [
    {
     "data": {
      "text/plain": [
       "tensor([[1, 2],\n",
       "        [3, 4]])"
      ]
     },
     "execution_count": 2,
     "metadata": {},
     "output_type": "execute_result"
    }
   ],
   "source": [
    "data = [[1, 2], [3, 4]]\n",
    "x_data = torch.tensor(data)\n",
    "x_data"
   ]
  },
  {
   "cell_type": "markdown",
   "id": "bf72a9b7-efcc-43ca-bb9c-8b9d4fa1a718",
   "metadata": {},
   "source": [
    "### From a NumPy Array\n",
    "\n",
    "Tensors can be created from NumPy arrays (and vice versa)"
   ]
  },
  {
   "cell_type": "code",
   "execution_count": 3,
   "id": "cbc4fcb9-8dfb-4442-8086-e10cd7fdcdf2",
   "metadata": {},
   "outputs": [
    {
     "data": {
      "text/plain": [
       "tensor([[1, 2],\n",
       "        [3, 4]])"
      ]
     },
     "execution_count": 3,
     "metadata": {},
     "output_type": "execute_result"
    }
   ],
   "source": [
    "np_array = np.array(data)\n",
    "x_np = torch.from_numpy(np_array)\n",
    "x_np"
   ]
  },
  {
   "cell_type": "markdown",
   "id": "fe1dfe45-678b-4e14-996d-ba7adbf2fde2",
   "metadata": {},
   "source": [
    "### From Another Tensor\n",
    "\n",
    "The new tensor retains the properties (shape, datatype) of the argument tensor, unless explicitly overridden"
   ]
  },
  {
   "cell_type": "code",
   "execution_count": 4,
   "id": "b9d74cc5-aa03-4301-973f-9b953cad0448",
   "metadata": {},
   "outputs": [
    {
     "name": "stdout",
     "output_type": "stream",
     "text": [
      "Ones Tensor: \n",
      " tensor([[1, 1],\n",
      "        [1, 1]]) \n",
      "\n",
      "Random Tensor: \n",
      " tensor([[0.8753, 0.3438],\n",
      "        [0.7057, 0.0459]]) \n",
      "\n"
     ]
    }
   ],
   "source": [
    "x_ones = torch.ones_like(x_data)  # retains the properties of x_data\n",
    "print(f\"Ones Tensor: \\n {x_ones} \\n\")\n",
    "x_rand = torch.rand_like(x_data, dtype=torch.float)  # overrides the datatype of x_data\n",
    "print(f\"Random Tensor: \\n {x_rand} \\n\")"
   ]
  },
  {
   "cell_type": "markdown",
   "id": "4082eb58-b678-4fd1-bbb9-f0507fcf3d33",
   "metadata": {},
   "source": [
    "### With Random or Constant Values\n",
    "\n",
    "`shape` is a tuple of tensor dimensions. In the functions below, it determines the dimensionality of the output tensor."
   ]
  },
  {
   "cell_type": "code",
   "execution_count": 5,
   "id": "93fd3cdf-9efa-4093-9860-fdab3d13395a",
   "metadata": {},
   "outputs": [
    {
     "name": "stdout",
     "output_type": "stream",
     "text": [
      "Random Tensor: \n",
      " tensor([[0.5169, 0.4529, 0.2234],\n",
      "        [0.8568, 0.9959, 0.5024]]) \n",
      "\n",
      "Ones Tensor: \n",
      " tensor([[1., 1., 1.],\n",
      "        [1., 1., 1.]]) \n",
      "\n",
      "Zeros Tensor: \n",
      " tensor([[0., 0., 0.],\n",
      "        [0., 0., 0.]])\n"
     ]
    }
   ],
   "source": [
    "shape = (2, 3)\n",
    "rand_tensor = torch.rand(shape)\n",
    "ones_tensor = torch.ones(shape)\n",
    "zeros_tensor = torch.zeros(shape)\n",
    "\n",
    "print(f\"Random Tensor: \\n {rand_tensor} \\n\")\n",
    "print(f\"Ones Tensor: \\n {ones_tensor} \\n\")\n",
    "print(f\"Zeros Tensor: \\n {zeros_tensor}\")"
   ]
  },
  {
   "cell_type": "markdown",
   "id": "7373bfb5-b8b5-45da-aff8-61d2092d55f5",
   "metadata": {},
   "source": [
    "## Attributes of a Tensor\n",
    "\n",
    "Tensor attributes describe their shape, datatype, and the device on which they are stored."
   ]
  },
  {
   "cell_type": "code",
   "execution_count": 6,
   "id": "9d1baa9f-562b-428e-ac87-aed76f4b54c3",
   "metadata": {},
   "outputs": [
    {
     "name": "stdout",
     "output_type": "stream",
     "text": [
      "Shape of tensor: torch.Size([3, 4])\n",
      "Datatype of tensor: torch.float32\n",
      "Device tensor is stored on: cpu\n"
     ]
    }
   ],
   "source": [
    "tensor = torch.rand((3, 4))\n",
    "\n",
    "print(f\"Shape of tensor: {tensor.shape}\")\n",
    "print(f\"Datatype of tensor: {tensor.dtype}\")\n",
    "print(f\"Device tensor is stored on: {tensor.device}\")"
   ]
  },
  {
   "cell_type": "markdown",
   "id": "8260b220-1e07-4864-b2d5-62b75e42beed",
   "metadata": {},
   "source": [
    "## Operations on Tensors\n",
    "\n",
    "Over 1200 tensor operations, including arithmetic, linear algebra, matrix manipulation (transposing, indexing, slicing), sampling and more are comprehensively described [here](https://pytorch.org/docs/stable/torch.html).\n",
    "\n",
    "By default, tensors are created on the CPU. We need to explicitly move tensors to the accelerator using the `.to()` method (after checking for accelerator availability). Keep in mind that copying large tensors across devices can be expensive in terms of time and memory!"
   ]
  },
  {
   "cell_type": "code",
   "execution_count": 7,
   "id": "34833040-7fe0-498a-bb3a-519814bed603",
   "metadata": {},
   "outputs": [],
   "source": [
    "# # We move our tensor to the current accelerator if available\n",
    "# if torch.accelerator.is_available():\n",
    "#     tensor = tensor.to(torch.accelerator.current_accelerator())"
   ]
  },
  {
   "cell_type": "markdown",
   "id": "81e97a00-856a-40c0-b13b-58b20ab9d5c0",
   "metadata": {},
   "source": [
    "### Standard NumPy-Like Indexing and Slicing:"
   ]
  },
  {
   "cell_type": "code",
   "execution_count": 8,
   "id": "09823974-c88a-4f86-b0e0-42db8fffbb14",
   "metadata": {},
   "outputs": [
    {
     "name": "stdout",
     "output_type": "stream",
     "text": [
      "First row: tensor([1., 1., 1., 1.])\n",
      "First column: tensor([1., 1., 1., 1.])\n",
      "Last column: tensor([1., 1., 1., 1.])\n",
      "tensor([[1., 0., 1., 1.],\n",
      "        [1., 0., 1., 1.],\n",
      "        [1., 0., 1., 1.],\n",
      "        [1., 0., 1., 1.]])\n"
     ]
    }
   ],
   "source": [
    "tensor = torch.ones(4,4)\n",
    "print(f\"First row: {tensor[0]}\")\n",
    "print(f\"First column: {tensor[:, 0]}\")  # : applies to exactly one dimension\n",
    "print(f\"Last column: {tensor[..., -1]}\")  # ... applies to however many : are missing (equiv. to : in this case)\n",
    "tensor[:,1] = 0\n",
    "print(tensor)"
   ]
  },
  {
   "cell_type": "markdown",
   "id": "902f4b02-4003-419b-a522-48a24c0da114",
   "metadata": {},
   "source": [
    "### Concatenation\n",
    "\n",
    "You can use `torch.cat()` to concatenate a sequence of tensors along a given dimension. See also `torch.stack()`, another tensore-joining operator that is subtly different from `torch.cat()`"
   ]
  },
  {
   "cell_type": "code",
   "execution_count": 9,
   "id": "e0ea8a20-b3e7-440b-b2bb-c2e2e60e1258",
   "metadata": {},
   "outputs": [
    {
     "name": "stdout",
     "output_type": "stream",
     "text": [
      "tensor([[1., 0., 1., 1.],\n",
      "        [1., 0., 1., 1.],\n",
      "        [1., 0., 1., 1.],\n",
      "        [1., 0., 1., 1.],\n",
      "        [1., 0., 1., 1.],\n",
      "        [1., 0., 1., 1.],\n",
      "        [1., 0., 1., 1.],\n",
      "        [1., 0., 1., 1.],\n",
      "        [1., 0., 1., 1.],\n",
      "        [1., 0., 1., 1.],\n",
      "        [1., 0., 1., 1.],\n",
      "        [1., 0., 1., 1.]])\n",
      "\n",
      "tensor([[1., 0., 1., 1., 1., 0., 1., 1., 1., 0., 1., 1.],\n",
      "        [1., 0., 1., 1., 1., 0., 1., 1., 1., 0., 1., 1.],\n",
      "        [1., 0., 1., 1., 1., 0., 1., 1., 1., 0., 1., 1.],\n",
      "        [1., 0., 1., 1., 1., 0., 1., 1., 1., 0., 1., 1.]])\n"
     ]
    }
   ],
   "source": [
    "t0 = torch.cat([tensor, tensor, tensor], dim=0)\n",
    "t1 = torch.cat([tensor, tensor, tensor], dim=1)\n",
    "print(f\"{t0}\\n\")\n",
    "print(f\"{t1}\")"
   ]
  },
  {
   "cell_type": "markdown",
   "id": "860e16ce-ad78-41b6-b264-58ce6e4390c9",
   "metadata": {},
   "source": [
    "### Arithmetic Operations"
   ]
  },
  {
   "cell_type": "code",
   "execution_count": 10,
   "id": "bc7e4568-0f0b-490e-af3b-cbc5f2e9fd23",
   "metadata": {},
   "outputs": [
    {
     "name": "stdout",
     "output_type": "stream",
     "text": [
      "tensor([[1., 0., 1., 1.],\n",
      "        [1., 0., 1., 1.],\n",
      "        [1., 0., 1., 1.],\n",
      "        [1., 0., 1., 1.]])\n",
      "tensor([[3., 3., 3., 3.],\n",
      "        [3., 3., 3., 3.],\n",
      "        [3., 3., 3., 3.],\n",
      "        [3., 3., 3., 3.]])\n",
      "tensor([[3., 3., 3., 3.],\n",
      "        [3., 3., 3., 3.],\n",
      "        [3., 3., 3., 3.],\n",
      "        [3., 3., 3., 3.]])\n",
      "tensor([[3., 3., 3., 3.],\n",
      "        [3., 3., 3., 3.],\n",
      "        [3., 3., 3., 3.],\n",
      "        [3., 3., 3., 3.]])\n"
     ]
    }
   ],
   "source": [
    "print(tensor)\n",
    "# This computes the matrix multiplication between two tensors. y1, y2, y3 will have the same value\n",
    "# ``tensor.T`` returns the transpose of a tensor\n",
    "y1 = tensor @ tensor.T  # @ is the matrix multiplication operator\n",
    "y2 = tensor.matmul(tensor.T)  # matrix multiplication\n",
    "y3 = torch.rand_like(y1)  # creates a new tensor with the same shape and dtype as y1 but with random numbers sampled uniformly from [0,1)\n",
    "torch.matmul(tensor, tensor.T, out=y3)  # out=y3 tells matmul to store the output in y3\n",
    "\n",
    "print(y1)\n",
    "print(y2)\n",
    "print(y3)"
   ]
  },
  {
   "cell_type": "markdown",
   "id": "09f60fe9-77fd-4614-882f-f17d387718eb",
   "metadata": {},
   "source": [
    "### Single-Element Tensors\n",
    "\n",
    "If you have a one-element tensor, for example by aggregating all values of a tensor into one value, you can convert it to a python numerical value using `item()`"
   ]
  },
  {
   "cell_type": "code",
   "execution_count": 11,
   "id": "6e6d7954-e602-46b9-a52e-c2b20053cbfa",
   "metadata": {},
   "outputs": [
    {
     "name": "stdout",
     "output_type": "stream",
     "text": [
      "12.0 <class 'float'>\n"
     ]
    }
   ],
   "source": [
    "agg = tensor.sum()\n",
    "agg_item = agg.item()\n",
    "print(agg_item, type(agg_item))"
   ]
  },
  {
   "cell_type": "markdown",
   "id": "3a8cdc91-ffb0-4817-a32a-fd3e35816de1",
   "metadata": {},
   "source": [
    "### In-Place Operations\n",
    "\n",
    "Operations that store the result into the operand are called in-place. They are denoted by a `_` suffix."
   ]
  },
  {
   "cell_type": "code",
   "execution_count": 12,
   "id": "8620d4d6-ec39-43e5-90fd-b726c552fd60",
   "metadata": {},
   "outputs": [
    {
     "name": "stdout",
     "output_type": "stream",
     "text": [
      "tensor([[1., 0., 1., 1.],\n",
      "        [1., 0., 1., 1.],\n",
      "        [1., 0., 1., 1.],\n",
      "        [1., 0., 1., 1.]]) \n",
      "\n",
      "tensor([[1., 0., 1., 1.],\n",
      "        [1., 0., 1., 1.],\n",
      "        [1., 0., 1., 1.],\n",
      "        [1., 0., 1., 1.]])\n",
      "tensor([[6., 5., 6., 6.],\n",
      "        [6., 5., 6., 6.],\n",
      "        [6., 5., 6., 6.],\n",
      "        [6., 5., 6., 6.]])\n"
     ]
    }
   ],
   "source": [
    "print(f\"{tensor} \\n\")\n",
    "tensor.add(5)\n",
    "print(tensor)\n",
    "tensor.add_(5)\n",
    "print(tensor)"
   ]
  },
  {
   "cell_type": "markdown",
   "id": "4ccac013-60be-4187-9bcc-c1b18613bfc7",
   "metadata": {},
   "source": [
    "### NOTE\n",
    "\n",
    "In-place operations save some memory, but can be problematic when computing derivatives because of an immediate loss of history. Hence, their use is discouraged."
   ]
  },
  {
   "cell_type": "markdown",
   "id": "a59c1ab6-ad50-499c-8a15-cc2e2c59cf43",
   "metadata": {},
   "source": [
    "## Bridge with NumPy\n",
    "\n",
    "Tensors on the CPU and NumPy arrays can share their underlying memory locations, and changing one will change the other"
   ]
  },
  {
   "cell_type": "markdown",
   "id": "7bb276ac-568c-452a-a291-281d8fe33110",
   "metadata": {},
   "source": [
    "### Tensor to NumPy Array"
   ]
  },
  {
   "cell_type": "code",
   "execution_count": 13,
   "id": "3001bfe4-d8e3-46b2-8ade-c7708e18394e",
   "metadata": {},
   "outputs": [
    {
     "name": "stdout",
     "output_type": "stream",
     "text": [
      "t=tensor([1., 1., 1., 1., 1.])\n",
      "n=array([1., 1., 1., 1., 1.], dtype=float32)\n"
     ]
    }
   ],
   "source": [
    "t = torch.ones(5)\n",
    "n = t.numpy()\n",
    "print(f\"{t=}\")\n",
    "print(f\"{n=}\")"
   ]
  },
  {
   "cell_type": "markdown",
   "id": "8e826002-b770-4da3-b1c6-ae324a7872be",
   "metadata": {},
   "source": [
    "A change in the tensor reflects in the NumPy array."
   ]
  },
  {
   "cell_type": "code",
   "execution_count": 14,
   "id": "79eb4443-edb0-46f6-b50f-faca8ed7299f",
   "metadata": {},
   "outputs": [
    {
     "name": "stdout",
     "output_type": "stream",
     "text": [
      "t=tensor([2., 2., 2., 2., 2.])\n",
      "n=array([2., 2., 2., 2., 2.], dtype=float32)\n"
     ]
    }
   ],
   "source": [
    "t.add_(1)\n",
    "print(f\"{t=}\")\n",
    "print(f\"{n=}\")"
   ]
  },
  {
   "cell_type": "markdown",
   "id": "938b73a5-c19b-4db8-9ae4-06e62ed148e6",
   "metadata": {},
   "source": [
    "### NumPy Array to Tensor"
   ]
  },
  {
   "cell_type": "code",
   "execution_count": 15,
   "id": "54d2571a-d5e2-4024-acd0-c3ce14958c4c",
   "metadata": {},
   "outputs": [
    {
     "name": "stdout",
     "output_type": "stream",
     "text": [
      "n=array([1., 1., 1., 1., 1.])\n",
      "t=tensor([1., 1., 1., 1., 1.], dtype=torch.float64)\n"
     ]
    }
   ],
   "source": [
    "n = np.ones(5)\n",
    "t = torch.from_numpy(n)\n",
    "print(f\"{n=}\")\n",
    "print(f\"{t=}\")"
   ]
  },
  {
   "cell_type": "markdown",
   "id": "c1648d4c-13fb-4615-9c19-fdefb8fc28dd",
   "metadata": {},
   "source": [
    "Changes in the NumPy array reflects in the tensor"
   ]
  },
  {
   "cell_type": "code",
   "execution_count": 16,
   "id": "e9dd196e-dcb9-488a-90f4-5a2195798f71",
   "metadata": {},
   "outputs": [
    {
     "name": "stdout",
     "output_type": "stream",
     "text": [
      "n=array([2., 2., 2., 2., 2.])\n",
      "t=tensor([2., 2., 2., 2., 2.], dtype=torch.float64)\n"
     ]
    }
   ],
   "source": [
    "np.add(n, 1, out=n)\n",
    "print(f\"{n=}\")\n",
    "print(f\"{t=}\")"
   ]
  }
 ],
 "metadata": {
  "kernelspec": {
   "display_name": "Python 3 (ipykernel)",
   "language": "python",
   "name": "python3"
  },
  "language_info": {
   "codemirror_mode": {
    "name": "ipython",
    "version": 3
   },
   "file_extension": ".py",
   "mimetype": "text/x-python",
   "name": "python",
   "nbconvert_exporter": "python",
   "pygments_lexer": "ipython3",
   "version": "3.11.2"
  }
 },
 "nbformat": 4,
 "nbformat_minor": 5
}
